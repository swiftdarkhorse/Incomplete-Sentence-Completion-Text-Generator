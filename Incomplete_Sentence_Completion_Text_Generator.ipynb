{
  "nbformat": 4,
  "nbformat_minor": 0,
  "metadata": {
    "colab": {
      "name": "Incomplete_Sentence_Completion_Text_Generator.ipynb",
      "provenance": []
    },
    "kernelspec": {
      "name": "python3",
      "display_name": "Python 3"
    },
    "accelerator": "GPU"
  },
  "cells": [
    {
      "cell_type": "code",
      "metadata": {
        "id": "ASsBz0vvHnOl",
        "colab_type": "code",
        "outputId": "6b653629-3b20-4171-a348-0b184a6e0ce8",
        "colab": {
          "base_uri": "https://localhost:8080/",
          "height": 118
        }
      },
      "source": [
        "import nltk\n",
        "import re\n",
        "nltk.download('punkt')\n",
        "nltk.download('stopwords')\n",
        "nltk.download('wordnet')\n",
        "from nltk.tokenize import sent_tokenize\n",
        "from tensorflow.keras.preprocessing.sequence import pad_sequences\n",
        "from tensorflow.keras.layers import Embedding, LSTM, Dense, Dropout, Bidirectional\n",
        "from tensorflow.keras.preprocessing.text import Tokenizer\n",
        "from tensorflow.keras.models import Sequential\n",
        "from tensorflow.keras.optimizers import Adam\n",
        "from tensorflow.keras import regularizers\n",
        "from tensorflow.keras.callbacks import LearningRateScheduler\n",
        "import tensorflow.keras.utils as ku \n",
        "import numpy as np \n",
        "import matplotlib.pyplot as plt"
      ],
      "execution_count": 25,
      "outputs": [
        {
          "output_type": "stream",
          "text": [
            "[nltk_data] Downloading package punkt to /root/nltk_data...\n",
            "[nltk_data]   Package punkt is already up-to-date!\n",
            "[nltk_data] Downloading package stopwords to /root/nltk_data...\n",
            "[nltk_data]   Package stopwords is already up-to-date!\n",
            "[nltk_data] Downloading package wordnet to /root/nltk_data...\n",
            "[nltk_data]   Package wordnet is already up-to-date!\n"
          ],
          "name": "stdout"
        }
      ]
    },
    {
      "cell_type": "code",
      "metadata": {
        "id": "IhUZAF1aIDCL",
        "colab_type": "code",
        "colab": {}
      },
      "source": [
        "def read_txt(path):\n",
        "    #file_path = \"/content/drive/My Drive/Colab Notebooks/corpus.txt\"\n",
        "    with open (path, \"r\") as file:\n",
        "         content = file.readlines()\n",
        "         content = \"\".join(content)\n",
        "    return content"
      ],
      "execution_count": 0,
      "outputs": []
    },
    {
      "cell_type": "code",
      "metadata": {
        "id": "0dV0AXBdMjPv",
        "colab_type": "code",
        "colab": {}
      },
      "source": [
        "#Question 1: Data Preprocessing\n",
        "\n",
        "def data_preprocessing(token):\n",
        "    n = len(token)\n",
        "    for i in range(n):\n",
        "        #Converting all sentences into lower case\n",
        "        token[i] = token[i].lower()\n",
        "        #Removing all special charachters from the sentences\n",
        "        temp = token[i]\n",
        "        token[i] = \"\"\n",
        "        for k in temp:\n",
        "            token[i] += re.sub(r\"[^a-zA-Z0-9]+\", ' ', k)\n",
        "        #Removing all numbers from the sentence\n",
        "        token[i] = re.sub(r'\\d+', '', token[i])\n",
        "        #Eliminating extra spaces from tokens\n",
        "        token[i] = re.sub(' +', ' ',token[i])\n",
        "    return token   "
      ],
      "execution_count": 0,
      "outputs": []
    },
    {
      "cell_type": "code",
      "metadata": {
        "id": "HYadrWg4oJNX",
        "colab_type": "code",
        "colab": {}
      },
      "source": [
        "#Question 2: Tokenization\n",
        "\n",
        "def tokenize(content):\n",
        "    #Replacing Enter by Space\n",
        "    content = content.replace(\"\\n\", \" \")\n",
        "    #Implement Sentence Tokenization\n",
        "    sent_token = sent_tokenize(content)\n",
        "    return sent_token\n",
        "\n"
      ],
      "execution_count": 0,
      "outputs": []
    },
    {
      "cell_type": "code",
      "metadata": {
        "id": "ox5z5paowB3P",
        "colab_type": "code",
        "colab": {}
      },
      "source": [
        "#Creating input sequences from tokens\n",
        "\n",
        "def input_creation(content):\n",
        "    tokenizer = Tokenizer()\n",
        "    corpus = tokenize(content)\n",
        "    corpus = data_preprocessing(corpus)\n",
        "    tokenizer.fit_on_texts(corpus)\n",
        "    total_words = len(tokenizer.word_index) + 1\n",
        "    #Creating input sequences using list of tokens\n",
        "    input_sequences = []\n",
        "    for line in corpus:\n",
        "\t      token_list = tokenizer.texts_to_sequences([line])[0]\n",
        "\t      for i in range(1, len(token_list)):\n",
        "\t\t        n_gram_sequence = token_list[:i+1]\n",
        "\t\t        input_sequences.append(n_gram_sequence)\n",
        "    #Padding sequences generated\n",
        "    max_sequence_len = max([len(x) for x in input_sequences])\n",
        "    input_sequences = np.array(pad_sequences(input_sequences, maxlen=max_sequence_len, padding='pre')) \n",
        "    return max_sequence_len, input_sequences, tokenizer, total_words"
      ],
      "execution_count": 0,
      "outputs": []
    },
    {
      "cell_type": "code",
      "metadata": {
        "id": "ysJFpR5-64C8",
        "colab_type": "code",
        "colab": {}
      },
      "source": [
        "#Creating predictor and labels\n",
        "\n",
        "def predictor_label_creation(input_sequences):\n",
        "    predictors, label = input_sequences[:,:-1],input_sequences[:,-1]\n",
        "    label = ku.to_categorical(label, num_classes=total_words)\n",
        "    return predictors, label    "
      ],
      "execution_count": 0,
      "outputs": []
    },
    {
      "cell_type": "code",
      "metadata": {
        "id": "BDvXZ4LNwB7t",
        "colab_type": "code",
        "colab": {}
      },
      "source": [
        "#Building the Deep Recurrent Neural Network\n",
        "\n",
        "def model_build(total_words):\n",
        "    model = Sequential()                                                         #Initialization of Sequential Model\n",
        "    model.add(Embedding(total_words, 100, input_length=max_sequence_len-1))      #Embedding layer with input dimension as no. of word and setting Embedding dimension as 100\n",
        "    model.add(Bidirectional(LSTM(150, return_sequences = True)))                 #Bidirectional LSTM containing 150 units with enabled return sequences\n",
        "    model.add(Dropout(0.2))                                                      #Dropout Rate set to 20% to reduce overfitting\n",
        "    model.add(LSTM(100))                                                         #Unidirectional LSTM with 100 units\n",
        "    model.add(Dense(total_words/2, activation='relu'))                           #Dense Hidden layer \n",
        "    model.add(Dense(total_words, activation='softmax'))                          #Dense Output layer \n",
        "    print(model.summary())                                                       #Glancing through the Model Built\n",
        "    return model"
      ],
      "execution_count": 0,
      "outputs": []
    },
    {
      "cell_type": "code",
      "metadata": {
        "id": "p1SxVKP3BItz",
        "colab_type": "code",
        "colab": {}
      },
      "source": [
        "#Model Compilation and Optimization\n",
        "\n",
        "def model_optimize(model):\n",
        "    Optimizer = Adam(learning_rate=0.001)\n",
        "    model.compile(loss = 'categorical_crossentropy', optimizer = Optimizer , metrics=['accuracy'])\n",
        "    return model"
      ],
      "execution_count": 0,
      "outputs": []
    },
    {
      "cell_type": "code",
      "metadata": {
        "id": "xNZaw5j0wCAk",
        "colab_type": "code",
        "colab": {}
      },
      "source": [
        "#Question 3: Model Training\n",
        "\n",
        "def model_train(model):\n",
        "    history = model.fit(predictors, label, epochs=150, batch_size=50, verbose=1)\n",
        "    return model, history"
      ],
      "execution_count": 0,
      "outputs": []
    },
    {
      "cell_type": "code",
      "metadata": {
        "id": "zlB8_XSW4lCq",
        "colab_type": "code",
        "colab": {}
      },
      "source": [
        "#Predicting the sentence based on input sentence\n",
        "\n",
        "def predict(max_sequence_len, tokenizer):\n",
        "    seed_text = input(\"Enter an incomplete sentence\\n\")\n",
        "    #Predicting the next part of the sentence based on built model\n",
        "    try:\n",
        "        next_words = int(input(\"Enter the no. of word to be predicted\\n\"))\n",
        "   \n",
        "        for _ in range(next_words):\n",
        "\t          token_list = tokenizer.texts_to_sequences([seed_text])[0]\n",
        "\t          token_list = pad_sequences([token_list], maxlen=max_sequence_len-1, padding='pre')\n",
        "\t          predicted = model.predict_classes(token_list, verbose=0)\n",
        "\t          output_word = \"\"\n",
        "\t          for word, index in tokenizer.word_index.items():\n",
        "\t\t            if index == predicted:\n",
        "\t\t\t             output_word = word\n",
        "\t\t\t             break\n",
        "\t          seed_text += \" \" + output_word\n",
        "        print(\"\\n\")    \n",
        "        print(\"The predicted sentence is:\\n\")\n",
        "        print(seed_text)\n",
        "    #Exception handling in case the no. of words to be predicted is null\n",
        "    except:\n",
        "        print(\"The Entered value must be an integer!!!\")"
      ],
      "execution_count": 0,
      "outputs": []
    },
    {
      "cell_type": "code",
      "metadata": {
        "id": "vUVi5yVLJ7Ki",
        "colab_type": "code",
        "outputId": "b63642de-b87d-4ab6-a76b-78daaf69eb04",
        "colab": {
          "base_uri": "https://localhost:8080/",
          "height": 154
        }
      },
      "source": [
        "#File Selection, Tokenization and Data Preprocessing\n",
        "\n",
        "file_name = input(\"Enter the Text File name\\n\")\n",
        "file_path = \"/content/drive/My Drive/Colab Notebooks/\" + str(file_name)\n",
        "file_content = read_txt(file_path)\n",
        "#Displaying Data after being pre-processed and Tokenized\n",
        "token = tokenize(file_content)\n",
        "token = data_preprocessing(token)\n",
        "print(\"The text file after Sentence Tokenization and Data Preprocessing is:\\n\")\n",
        "print(token)\n",
        "print(\"\\n\")"
      ],
      "execution_count": 35,
      "outputs": [
        {
          "output_type": "stream",
          "text": [
            "Enter the Text File name\n",
            "corpus.txt\n",
            "The text file after Sentence Tokenization and Data Preprocessing is:\n",
            "\n",
            "['one winter s evening towards the close of the year or within a year or two of that time a young medical practitioner recently established in business was seated by a cheerful fire in his little parlour listening to the wind which was beating the rain in pattering drops against the window or rumbling dismally in the chimney ', 'the night was wet and cold he had been walking through mud and water the whole day and was now comfortably reposing in his dressing gown and slippers more than half asleep and less than half awake revolving a thousand matters in his wandering imagination ', 'first he thought how hard the wind was blowing and how the cold sharp rain would be at that moment beating in his face if he were not comfortably housed at home ', 'then his mind reverted to his annual christmas visit to his native place and dearest friends he thought how glad they would all be to see him and how happy it would make rose if he could only tell her that he had found a patient at last and hoped to have more and to come down again in a few months time and marry her and take her home to gladden his lonely fireside and stimulate him to fresh exertions ', 'then he began to wonder when his first patient would appear or whether he was destined by a special dispensation of providence never to have any patients at all and then he thought about rose again and dropped to sleep and dreamed about her till the tones of her sweet merry voice sounded in his ears and her soft tiny hand rested on his shoulder ', 'there was a hand upon his shoulder but it was neither soft nor tiny its owner being a corpulent round headed boy who in consideration of the sum of one shilling per week and his food was let out by the parish to carry medicine and messages ', 'as there was no demand for the medicine however and no necessity for the messages he usually occupied his unemployed hours averaging fourteen a day in abstracting peppermint drops taking animal nourishment and going to sleep ', ' a lady sir a lady ', 'whispered the boy rousing his master with a shake ', ' what lady ', 'cried our friend starting up not quite certain that his dream was an illusion and half expecting that it might be rose herself what lady ', 'where ', ' there sir ', 'replied the boy pointing to the glass door leading into the surgery with an expression of alarm which the very unusual apparition of a customer might have tended to excite ', 'the surgeon looked towards the door and started himself for an instant on beholding the appearance of his unlooked for visitor ', 'it was a singularly tall woman dressed in deep mourning and standing so close to the door that her face almost touched the glass ', 'the upper part of her figure was carefully muffled in a black shawl as if for the purpose of concealment and her face was shrouded by a thick black veil ', 'she stood perfectly erect her figure was drawn up to its full height and though the surgeon felt that the eyes beneath the veil were fixed on him she stood perfectly motionless and evinced by no gesture whatever the slightest consciousness of his having turned towards her ', ' do you wish to consult me ', 'he inquired with some hesitation holding open the door ', 'it opened inwards and therefore the action did not alter the position of the figure which still remained motionless on the same spot ', 'she slightly inclined her head in token of acquiescence ', ' pray walk in said the surgeon ', 'the figure moved a step forward and then turning its head in the direction of the boy to his infinite horror appeared to hesitate ', ' leave the room tom said the young man addressing the boy whose large round eyes had been extended to their utmost width during this brief interview ', ' draw the curtain and shut the door ', 'the boy drew a green curtain across the glass part of the door retired into the surgery closed the door after him and immediately applied one of his large eyes to the keyhole on the other side ', 'the surgeon drew a chair to the fire and motioned the visitor to a seat ', 'the mysterious figure slowly moved towards it ', 'as the blaze shone upon the black dress the surgeon observed that the bottom of it was saturated with mud and rain ', ' you are very wet be said ', ' i am said the stranger in a low deep voice ', ' and you are ill ', 'added the surgeon compassionately for the tone was that of a person in pain ', ' i am was the reply very ill not bodily but mentally ', 'it is not for myself or on my own behalf continued the stranger that i come to you ', 'if i laboured under bodily disease i should not be out alone at such an hour or on such a night as this and if i were afflicted with it twenty four hours hence god knows how gladly i would lie down and pray to die ', 'it is for another that i beseech your aid sir ', 'i may be mad to ask it for him i think i am but night after night through the long dreary hours of watching and weeping the thought has been ever present to my mind and though even i see the hopelessness of human assistance availing him the bare thought of laying him in his grave without it makes my blood run cold ', 'and a shudder such as the surgeon well knew art could not produce trembled through the speaker s frame ', 'there was a desperate earnestness in this woman s manner that went to the young man s heart ', 'he was young in his profession and had not yet witnessed enough of the miseries which are daily presented before the eyes of its members to have grown comparatively callous to human suffering ', ' if he said rising hastily the person of whom you speak be in so hopeless a condition as you describe not a moment is to be lost ', 'i will go with you instantly ', 'why did you not obtain medical advice before ', ' because it would have been useless before because it is useless even now replied the woman clasping her hands passionately ', 'the surgeon gazed for a moment on the black veil as if to ascertain the expression of the features beneath it its thickness however rendered such a result impossible ', ' you are ill he said gently although you do not know it ', 'the fever which has enabled you to bear without feeling it the fatigue you have evidently undergone is burning within you now ', 'put that to your lips he continued pouring out a glass of water compose yourself for a few moments and then tell me as calmly as you can what the disease of the patient is and how long he has been ill ', 'when i know what it is necessary i should know to render my visit serviceable to him i am ready to accompany you ', 'the stranger lifted the glass of water to her mouth without raising the veil put it down again untasted and burst into tears ', ' i know she said sobbing aloud that what i say to you now seems like the ravings of fever ', 'i have been told so before less kindly than by you ', 'i am not a young woman and they do say that as life steals on towards its final close the last short remnant worthless as it may seem to all beside is dearer to its possessor than all the years that have gone before connected though they be with the recollection of old friends long since dead and young ones children perhaps who have fallen off from and forgotten one as completely as if they had died too ', 'my natural term of life cannot be many years longer and should be dear on that account but i would lay it down without a sigh with cheerfulness with joy if what i tell you now were only false or imaginary ', 'to morrow morning he of whom i speak will be i know though i would fain think otherwise beyond the reach of human aid and yet to night though he is in deadly peril you must not see and could not serve him ', ' i am unwilling to increase your distress said the surgeon after a short pause by making any comment on what you have just said or appearing desirous to investigate a subject you are so anxious to conceal but there is an inconsistency in your statement which i cannot reconcile with probability ', 'this person is dying to night and i cannot see him when my assistance might possibly avail you apprehend it will be useless tomorrow and yet you would have me see him then ', 'if he be indeed as dear to you as your words and manner would imply why not try to save his life before delay and the progress of his disease render it impracticable ', ' god help me ', 'exclaimed the woman weeping bitterly how can i hope strangers will believe what appears incredible even to myself ', 'you will not see him then sir ', 'she added rising suddenly ', ' i did not say that i declined to see him replied the surgeon but i warn you that if you persist in this extraordinary procrastination and the individual dies a fearful responsibility rests with you ', ' the responsibility will rest heavily somewhere replied the stranger bitterly ', ' whatever responsibility rests with me i am content to bear and ready to answer ', ' as i incur none continued the surgeon by acceding to your request i will see him in the morning if you leave me the address ', 'at what hour can he be seen ', ' nine replied the stranger ', ' you must excuse my pressing these inquiries said the surgeon ', ' but is he in your charge now ', ' he is not was the rejoinder ', ' then if i gave you instructions for his treatment through the night you could not assist him ', 'the woman wept bitterly as she replied i could not ', 'finding that there was but little prospect of obtaining more information by prolonging the interview and anxious to spare the woman s feelings which subdued at first by a violent effort were now irrepressible and most painful to witness the surgeon repeated his promise of calling in the morning at the appointed hour ', 'his visitor after giving him a direction to an obscure part of walworth left the house in the same mysterious manner in which she had entered it ', 'it will be readily believed that so extraordinary a visit produced a considerable impression on the mind of the young surgeon and that he speculated a great deal and to very little purpose on the possible circumstances of the case ', 'in common with the generality of people he had often heard and read of singular instances in which a presentiment of death at a particular day or even minute had been entertained and realised ', 'at one moment he was inclined to think that the present might be such a case but then it occurred to him that all the anecdotes of the kind he had ever heard were of persons who had been troubled with a foreboding of their own death ', 'this woman however spoke of another person a man and it was impossible to suppose that a mere dream or delusion of fancy would induce her to speak of his approaching dissolution with such terrible certainty as she had spoken ', 'it could not be that the man was to be murdered in the morning and that the woman originally a consenting party and bound to secrecy by an oath had relented and though unable to prevent the commission of some outrage on the victim had determined to prevent his death if possible by the timely interposition of medical aid ', 'the idea of such things happening within two miles of the metropolis appeared too wild and preposterous to be entertained beyond the instant ', 'then his original impression that the woman s intellects were disordered recurred and as it was the only mode of solving the difficulty with any degree of satisfaction he obstinately made up his mind to believe that she was mad ', 'certain misgivings upon this point however stole upon his thoughts at the time and presented themselves again and again through the long dull course of a sleepless night during which in spite of all his efforts to the contrary he was unable to banish the black veil from his disturbed imagination ', 'the back part of walworth at its greatest distance from town is a straggling miserable place enough even in these days but five andthirty years ago the greater portion of it was little better than a dreary waste inhabited by a few scattered people of questionable character whose poverty prevented their living in any better neighbourhood or whose pursuits and mode of life rendered its solitude desirable ', 'very many of the houses which have since sprung up on all sides were not built until some years afterwards and the great majority even of those which were sprinkled about at irregular intervals were of the rudest and most miserable description ', 'the appearance of the place through which he walked in the morning was not calculated to raise the spirits of the young surgeon or to dispel any feeling of anxiety or depression which the singular kind of visit he was about to make had awakened ', 'striking off from the high road his way lay across a marshy common through irregular lanes with here and there a ruinous and dismantled cottage fast falling to pieces with decay and neglect ', 'a stunted tree or pool of stagnant water roused into a sluggish action by the heavy rain of the preceding night skirted the path occasionally and now and then a miserable patch of garden ground with a few old boards knocked together for a summer house and old palings imperfectly mended with stakes pilfered from the neighbouring hedges bore testimony at once to the poverty of the inhabitants and the little scruple they entertained in appropriating the property of other people to their own use ', 'occasionally a filthy looking woman would make her appearance from the door of a dirty house to empty the contents of some cooking utensil into the gutter in front or to scream after a little slip shod girl who had contrived to stagger a few yards from the door under the weight of a sallow infant almost as big as herself but scarcely anything was stirring around and so much of the prospect as could be faintly traced through the cold damp mist which hung heavily over it presented a lonely and dreary appearance perfectly in keeping with the objects we have described ', 'after plodding wearily through the mud and mire making many inquiries for the place to which he had been directed and receiving as many contradictory and unsatisfactory replies in return the young man at length arrived before the house which had been pointed out to him as the object of his destination ', 'it was a small low building one story above the ground with even a more desolate and unpromising exterior than any he had yet passed ', 'an old yellow curtain was closely drawn across the window up stairs and the parlour shutters were closed but not fastened ', 'the house was detached from any other and as it stood at an angle of a narrow lane there was no other habitation in sight ', 'when we say that the surgeon hesitated and walked a few paces beyond the house before he could prevail upon himself to lift the knocker we say nothing that need raise a smile upon the face of the boldest reader ', 'the police of london were a very different body in that day the isolated position of the suburbs when the rage for building and the progress of improvement had not yet begun to connect them with the main body of the city and its environs rendered many of them and this in particular a place of resort for the worst and most depraved characters ', 'even the streets in the gayest parts of london were imperfectly lighted at that time and such places as these were left entirely to the mercy of the moon and stars ', 'the chances of detecting desperate characters or of tracing them to their haunts were thus rendered very few and their offences naturally increased in boldness as the consciousness of comparative security became the more impressed upon them by daily experience ', 'added to these considerations it must be remembered that the young man had spent some time in the public hospitals of the metropolis and although neither burke nor bishop had then gained a horrible notoriety his own observation might have suggested to him how easily the atrocities to which the former has since given his name might be committed ', 'be this as it may whatever reflection made him hesitate he did hesitate but being a young man of strong mind and great personal courage it was only for an instant he stepped briskly back and knocked gently at the door ', 'a low whispering was audible immediately afterwards as if some person at the end of the passage were conversing stealthily with another on the landing above ', 'it was succeeded by the noise of a pair of heavy boots upon the bare floor ', 'the door chain was softly unfastened the door opened and a tall ill favoured man with black hair and a face as the surgeon often declared afterwards as pale and haggard as the countenance of any dead man he ever saw presented himself ', ' walk in sir he said in a low tone ', 'the surgeon did so and the man having secured the door again by the chain led the way to a small back parlour at the extremity of the passage ', ' am i in time ', ' too soon ', 'replied the man ', 'the surgeon turned hastily round with a gesture of astonishment not unmixed with alarm which he found it impossible to repress ', ' if you ll step in here sir said the man who had evidently noticed the action if you ll step in here sir you won t be detained five minutes i assure you ', 'the surgeon at once walked into the room ', 'the man closed the door and left him alone ', 'it was a little cold room with no other furniture than two deal chairs and a table of the same material ', 'a handful of fire unguarded by any fender was burning in the grate which brought out the damp if it served no more comfortable purpose for the unwholesome moisture was stealing down the walls in long slug like tracks ', 'the window which was broken and patched in many places looked into a small enclosed piece of ground almost covered with water ', 'not a sound was to be heard either within the house or without ', 'the young surgeon sat down by the fireplace to await the result of his first professional visit ', 'he had not remained in this position many minutes when the noise of some approaching vehicle struck his ear ', 'it stopped the street door was opened a low talking succeeded accompanied with a shuffling noise of footsteps along the passage and on the stairs as if two or three men were engaged in carrying some heavy body to the room above ', 'the creaking of the stairs a few seconds afterwards announced that the newcomers having completed their task whatever it was were leaving the house ', 'the door was again closed and the former silence was restored ', 'another five minutes had elapsed and the surgeon had resolved to explore the house in search of some one to whom he might make his errand known when the room door opened and his last night s visitor dressed in exactly the same manner with the veil lowered as before motioned him to advance ', 'the singular height of her form coupled with the circumstance of her not speaking caused the idea to pass across his brain for an instant that it might be a man disguised in woman s attire ', 'the hysteric sobs which issued from beneath the veil and the convulsive attitude of grief of the whole figure however at once exposed the absurdity of the suspicion and he hastily followed ', 'the woman led the way up stairs to the front room and paused at the door to let him enter first ', 'it was scantily furnished with an old deal box a few chairs and a tent bedstead without hangings or cross rails which was covered with a patchwork counterpane ', 'the dim light admitted through the curtain which he had noticed from the outside rendered the objects in the room so indistinct and communicated to all of them so uniform a hue that he did not at first perceive the object on which his eye at once rested when the woman rushed frantically past him and flung herself on her knees by the bedside ', 'stretched upon the bed closely enveloped in a linen wrapper and covered with blankets lay a human form stiff and motionless ', 'the head and face which were those of a man were uncovered save by a bandage which passed over the head and under the chin ', 'the eyes were closed ', 'the left arm lay heavily across the bed and the woman held the passive hand ', 'the surgeon gently pushed the woman aside and took the hand in his ', ' my god ', 'he exclaimed letting it fall involuntarily the man is dead ', 'the woman started to her feet and beat her hands together ', ' oh ', 'don t say so sir she exclaimed with a burst of passion amounting almost to frenzy ', ' oh ', 'don t say so sir ', 'i can t bear it ', 'men have been brought to life before when unskilful people have given them up for lost and men have died who might have been restored if proper means had been resorted to ', 'don t let him lie here sir without one effort to save him ', 'this very moment life may be passing away ', 'do try sir do for heaven s sake ', ' and while speaking she hurriedly chafed first the forehead and then the breast of the senseless form before her and then wildly beat the cold hands which when she ceased to hold them fell listlessly and heavily back on the coverlet ', ' it is of no use my good woman said the surgeon soothingly as he withdrew his hand from the man s breast ', ' stay undraw that curtain ', ' why ', 'said the woman starting up ', ' undraw that curtain ', 'repeated the surgeon in an agitated tone ', ' i darkened the room on purpose said the woman throwing herself before him as he rose to undraw it oh ', 'sir have pity on me ', 'if it can be of no use and he is really dead do not expose that form to other eyes than mine ', ' this man died no natural or easy death said the surgeon ', ' i must see the body ', 'with a motion so sudden that the woman hardly knew that he had slipped from beside her he tore open the curtain admitted the full light of day and returned to the bedside ', ' there has been violence here he said pointing towards the body and gazing intently on the face from which the black veil was now for the first time removed ', 'in the excitement of a minute before the female had thrown off the bonnet and veil and now stood with her eyes fixed upon him ', 'her features were those of a woman about fifty who had once been handsome ', 'sorrow and weeping had left traces upon them which not time itself would ever have produced without their aid her face was deadly pale and there was a nervous contortion of the lip and an unnatural fire in her eye which showed too plainly that her bodily and mental powers had nearly sunk beneath an accumulation of misery ', ' there has been violence here said the surgeon preserving his searching glance ', ' there has ', 'replied the woman ', ' this man has been murdered ', ' that i call god to witness he has said the woman passionately pitilessly inhumanly murdered ', ' by whom ', 'said the surgeon seizing the woman by the arm ', ' look at the butchers marks and then ask me ', 'she replied ', 'the surgeon turned his face towards the bed and bent over the body which now lay full in the light of the window ', 'the throat was swollen and a livid mark encircled it ', 'the truth flashed suddenly upon him ', ' this is one of the men who were hanged this morning ', 'he exclaimed turning away with a shudder ', ' it is replied the woman with a cold unmeaning stare ', ' who was he ', 'inquired the surgeon ', ' my son rejoined the woman and fell senseless at his feet ', 'it was true ', 'a companion equally guilty with himself had been acquitted for want of evidence and this man had been left for death and executed ', 'to recount the circumstances of the case at this distant period must be unnecessary and might give pain to some persons still alive ', 'the history was an every day one ', 'the mother was a widow without friends or money and had denied herself necessaries to bestow them on her orphan boy ', 'that boy unmindful of her prayers and forgetful of the sufferings she had endured for him incessant anxiety of mind and voluntary starvation of body had plunged into a career of dissipation and crime ', 'and this was the result his own death by the hangman s hands and his mother s shame and incurable insanity ', 'for many years after this occurrence and when profitable and arduous avocations would have led many men to forget that such a miserable being existed the young surgeon was a daily visitor at the side of the harmless mad woman not only soothing her by his presence and kindness but alleviating the rigour of her condition by pecuniary donations for her comfort and support bestowed with no sparing hand ', 'in the transient gleam of recollection and consciousness which preceded her death a prayer for his welfare and protection as fervent as mortal ever breathed rose from the lips of this poor friendless creature ', 'that prayer flew to heaven and was heard ', 'the blessings he was instrumental in conferring have been repaid to him a thousand fold but amid all the honours of rank and station which have since been heaped upon him and which he has so well earned he can have no reminiscence more gratifying to his heart than that connected with the black veil ']\n",
            "\n",
            "\n"
          ],
          "name": "stdout"
        }
      ]
    },
    {
      "cell_type": "code",
      "metadata": {
        "id": "pJhv3b1T9FbV",
        "colab_type": "code",
        "outputId": "7a990c09-d84c-4314-80a9-4f20dd72bf20",
        "colab": {
          "base_uri": "https://localhost:8080/",
          "height": 1000
        }
      },
      "source": [
        "#Creation of input, predictors, labels. Model building and training\n",
        "\n",
        "max_sequence_len, input_sequences, tokenizer, total_words = input_creation(file_content)\n",
        "predictors, label = predictor_label_creation(input_sequences)\n",
        "model = model_build(total_words)\n",
        "model = model_optimize(model)\n",
        "model, history = model_train(model)"
      ],
      "execution_count": 36,
      "outputs": [
        {
          "output_type": "stream",
          "text": [
            "Model: \"sequential_1\"\n",
            "_________________________________________________________________\n",
            "Layer (type)                 Output Shape              Param #   \n",
            "=================================================================\n",
            "embedding_1 (Embedding)      (None, 102, 100)          133300    \n",
            "_________________________________________________________________\n",
            "bidirectional_1 (Bidirection (None, 102, 300)          301200    \n",
            "_________________________________________________________________\n",
            "dropout_1 (Dropout)          (None, 102, 300)          0         \n",
            "_________________________________________________________________\n",
            "lstm_3 (LSTM)                (None, 100)               160400    \n",
            "_________________________________________________________________\n",
            "dense_2 (Dense)              (None, 666)               67266     \n",
            "_________________________________________________________________\n",
            "dense_3 (Dense)              (None, 1333)              889111    \n",
            "=================================================================\n",
            "Total params: 1,551,277\n",
            "Trainable params: 1,551,277\n",
            "Non-trainable params: 0\n",
            "_________________________________________________________________\n",
            "None\n",
            "Epoch 1/150\n",
            "86/86 [==============================] - 2s 23ms/step - loss: 6.4742 - accuracy: 0.0640\n",
            "Epoch 2/150\n",
            "86/86 [==============================] - 2s 22ms/step - loss: 5.9716 - accuracy: 0.0708\n",
            "Epoch 3/150\n",
            "86/86 [==============================] - 2s 22ms/step - loss: 5.8012 - accuracy: 0.0734\n",
            "Epoch 4/150\n",
            "86/86 [==============================] - 2s 22ms/step - loss: 5.5937 - accuracy: 0.0825\n",
            "Epoch 5/150\n",
            "86/86 [==============================] - 2s 22ms/step - loss: 5.4555 - accuracy: 0.0984\n",
            "Epoch 6/150\n",
            "86/86 [==============================] - 2s 22ms/step - loss: 5.3383 - accuracy: 0.0968\n",
            "Epoch 7/150\n",
            "86/86 [==============================] - 2s 22ms/step - loss: 5.2248 - accuracy: 0.1080\n",
            "Epoch 8/150\n",
            "86/86 [==============================] - 2s 22ms/step - loss: 5.0974 - accuracy: 0.1129\n",
            "Epoch 9/150\n",
            "86/86 [==============================] - 2s 22ms/step - loss: 4.9431 - accuracy: 0.1194\n",
            "Epoch 10/150\n",
            "86/86 [==============================] - 2s 22ms/step - loss: 4.8039 - accuracy: 0.1271\n",
            "Epoch 11/150\n",
            "86/86 [==============================] - 2s 22ms/step - loss: 4.7120 - accuracy: 0.1299\n",
            "Epoch 12/150\n",
            "86/86 [==============================] - 2s 22ms/step - loss: 4.6050 - accuracy: 0.1374\n",
            "Epoch 13/150\n",
            "86/86 [==============================] - 2s 22ms/step - loss: 4.5058 - accuracy: 0.1405\n",
            "Epoch 14/150\n",
            "86/86 [==============================] - 2s 22ms/step - loss: 4.4185 - accuracy: 0.1507\n",
            "Epoch 15/150\n",
            "86/86 [==============================] - 2s 22ms/step - loss: 4.3303 - accuracy: 0.1535\n",
            "Epoch 16/150\n",
            "86/86 [==============================] - 2s 22ms/step - loss: 4.2426 - accuracy: 0.1608\n",
            "Epoch 17/150\n",
            "86/86 [==============================] - 2s 22ms/step - loss: 4.1612 - accuracy: 0.1706\n",
            "Epoch 18/150\n",
            "86/86 [==============================] - 2s 22ms/step - loss: 4.0585 - accuracy: 0.1757\n",
            "Epoch 19/150\n",
            "86/86 [==============================] - 2s 22ms/step - loss: 3.9844 - accuracy: 0.1750\n",
            "Epoch 20/150\n",
            "86/86 [==============================] - 2s 22ms/step - loss: 3.8977 - accuracy: 0.1835\n",
            "Epoch 21/150\n",
            "86/86 [==============================] - 2s 22ms/step - loss: 3.8177 - accuracy: 0.1912\n",
            "Epoch 22/150\n",
            "86/86 [==============================] - 2s 22ms/step - loss: 3.7403 - accuracy: 0.1970\n",
            "Epoch 23/150\n",
            "86/86 [==============================] - 2s 22ms/step - loss: 3.6593 - accuracy: 0.1965\n",
            "Epoch 24/150\n",
            "86/86 [==============================] - 2s 22ms/step - loss: 3.5865 - accuracy: 0.2068\n",
            "Epoch 25/150\n",
            "86/86 [==============================] - 2s 22ms/step - loss: 3.4965 - accuracy: 0.2122\n",
            "Epoch 26/150\n",
            "86/86 [==============================] - 2s 22ms/step - loss: 3.4314 - accuracy: 0.2143\n",
            "Epoch 27/150\n",
            "86/86 [==============================] - 2s 22ms/step - loss: 3.3637 - accuracy: 0.2213\n",
            "Epoch 28/150\n",
            "86/86 [==============================] - 2s 22ms/step - loss: 3.2728 - accuracy: 0.2318\n",
            "Epoch 29/150\n",
            "86/86 [==============================] - 2s 22ms/step - loss: 3.1953 - accuracy: 0.2370\n",
            "Epoch 30/150\n",
            "86/86 [==============================] - 2s 22ms/step - loss: 3.1245 - accuracy: 0.2482\n",
            "Epoch 31/150\n",
            "86/86 [==============================] - 2s 22ms/step - loss: 3.0352 - accuracy: 0.2578\n",
            "Epoch 32/150\n",
            "86/86 [==============================] - 2s 22ms/step - loss: 2.9660 - accuracy: 0.2716\n",
            "Epoch 33/150\n",
            "86/86 [==============================] - 2s 22ms/step - loss: 2.8809 - accuracy: 0.2816\n",
            "Epoch 34/150\n",
            "86/86 [==============================] - 2s 22ms/step - loss: 2.8167 - accuracy: 0.2947\n",
            "Epoch 35/150\n",
            "86/86 [==============================] - 2s 22ms/step - loss: 2.7331 - accuracy: 0.3071\n",
            "Epoch 36/150\n",
            "86/86 [==============================] - 2s 22ms/step - loss: 2.6503 - accuracy: 0.3192\n",
            "Epoch 37/150\n",
            "86/86 [==============================] - 2s 22ms/step - loss: 2.7864 - accuracy: 0.2963\n",
            "Epoch 38/150\n",
            "86/86 [==============================] - 2s 22ms/step - loss: 2.6802 - accuracy: 0.3106\n",
            "Epoch 39/150\n",
            "86/86 [==============================] - 2s 23ms/step - loss: 2.5100 - accuracy: 0.3487\n",
            "Epoch 40/150\n",
            "86/86 [==============================] - 2s 22ms/step - loss: 2.4240 - accuracy: 0.3625\n",
            "Epoch 41/150\n",
            "86/86 [==============================] - 2s 22ms/step - loss: 2.3338 - accuracy: 0.3779\n",
            "Epoch 42/150\n",
            "86/86 [==============================] - 2s 22ms/step - loss: 2.2472 - accuracy: 0.3952\n",
            "Epoch 43/150\n",
            "86/86 [==============================] - 2s 22ms/step - loss: 2.1875 - accuracy: 0.4160\n",
            "Epoch 44/150\n",
            "86/86 [==============================] - 2s 22ms/step - loss: 2.1195 - accuracy: 0.4235\n",
            "Epoch 45/150\n",
            "86/86 [==============================] - 2s 22ms/step - loss: 2.0303 - accuracy: 0.4496\n",
            "Epoch 46/150\n",
            "86/86 [==============================] - 2s 22ms/step - loss: 1.9648 - accuracy: 0.4646\n",
            "Epoch 47/150\n",
            "86/86 [==============================] - 2s 22ms/step - loss: 1.8942 - accuracy: 0.4746\n",
            "Epoch 48/150\n",
            "86/86 [==============================] - 2s 22ms/step - loss: 1.8198 - accuracy: 0.5039\n",
            "Epoch 49/150\n",
            "86/86 [==============================] - 2s 22ms/step - loss: 1.7480 - accuracy: 0.5195\n",
            "Epoch 50/150\n",
            "86/86 [==============================] - 2s 21ms/step - loss: 1.6807 - accuracy: 0.5354\n",
            "Epoch 51/150\n",
            "86/86 [==============================] - 2s 22ms/step - loss: 1.6159 - accuracy: 0.5553\n",
            "Epoch 52/150\n",
            "86/86 [==============================] - 2s 22ms/step - loss: 1.5561 - accuracy: 0.5646\n",
            "Epoch 53/150\n",
            "86/86 [==============================] - 2s 22ms/step - loss: 1.5027 - accuracy: 0.5810\n",
            "Epoch 54/150\n",
            "86/86 [==============================] - 2s 22ms/step - loss: 1.4247 - accuracy: 0.6065\n",
            "Epoch 55/150\n",
            "86/86 [==============================] - 2s 22ms/step - loss: 1.3732 - accuracy: 0.6223\n",
            "Epoch 56/150\n",
            "86/86 [==============================] - 2s 22ms/step - loss: 1.2836 - accuracy: 0.6450\n",
            "Epoch 57/150\n",
            "86/86 [==============================] - 2s 22ms/step - loss: 1.2373 - accuracy: 0.6611\n",
            "Epoch 58/150\n",
            "86/86 [==============================] - 2s 22ms/step - loss: 1.1913 - accuracy: 0.6728\n",
            "Epoch 59/150\n",
            "86/86 [==============================] - 2s 22ms/step - loss: 1.1559 - accuracy: 0.6705\n",
            "Epoch 60/150\n",
            "86/86 [==============================] - 2s 22ms/step - loss: 1.0889 - accuracy: 0.7027\n",
            "Epoch 61/150\n",
            "86/86 [==============================] - 2s 22ms/step - loss: 1.0415 - accuracy: 0.7242\n",
            "Epoch 62/150\n",
            "86/86 [==============================] - 2s 22ms/step - loss: 1.0038 - accuracy: 0.7256\n",
            "Epoch 63/150\n",
            "86/86 [==============================] - 2s 22ms/step - loss: 0.9720 - accuracy: 0.7315\n",
            "Epoch 64/150\n",
            "86/86 [==============================] - 2s 22ms/step - loss: 0.9626 - accuracy: 0.7357\n",
            "Epoch 65/150\n",
            "86/86 [==============================] - 2s 22ms/step - loss: 0.9044 - accuracy: 0.7591\n",
            "Epoch 66/150\n",
            "86/86 [==============================] - 2s 22ms/step - loss: 0.8657 - accuracy: 0.7570\n",
            "Epoch 67/150\n",
            "86/86 [==============================] - 2s 22ms/step - loss: 0.8249 - accuracy: 0.7696\n",
            "Epoch 68/150\n",
            "86/86 [==============================] - 2s 22ms/step - loss: 0.7721 - accuracy: 0.7918\n",
            "Epoch 69/150\n",
            "86/86 [==============================] - 2s 22ms/step - loss: 0.7181 - accuracy: 0.8074\n",
            "Epoch 70/150\n",
            "86/86 [==============================] - 2s 22ms/step - loss: 0.6968 - accuracy: 0.8142\n",
            "Epoch 71/150\n",
            "86/86 [==============================] - 2s 22ms/step - loss: 0.6647 - accuracy: 0.8194\n",
            "Epoch 72/150\n",
            "86/86 [==============================] - 2s 22ms/step - loss: 0.6396 - accuracy: 0.8247\n",
            "Epoch 73/150\n",
            "86/86 [==============================] - 2s 22ms/step - loss: 0.6271 - accuracy: 0.8322\n",
            "Epoch 74/150\n",
            "86/86 [==============================] - 2s 22ms/step - loss: 0.5796 - accuracy: 0.8453\n",
            "Epoch 75/150\n",
            "86/86 [==============================] - 2s 22ms/step - loss: 0.5902 - accuracy: 0.8423\n",
            "Epoch 76/150\n",
            "86/86 [==============================] - 2s 22ms/step - loss: 0.5486 - accuracy: 0.8537\n",
            "Epoch 77/150\n",
            "86/86 [==============================] - 2s 22ms/step - loss: 0.5224 - accuracy: 0.8642\n",
            "Epoch 78/150\n",
            "86/86 [==============================] - 2s 22ms/step - loss: 0.4931 - accuracy: 0.8759\n",
            "Epoch 79/150\n",
            "86/86 [==============================] - 2s 22ms/step - loss: 0.4625 - accuracy: 0.8869\n",
            "Epoch 80/150\n",
            "86/86 [==============================] - 2s 22ms/step - loss: 0.4652 - accuracy: 0.8745\n",
            "Epoch 81/150\n",
            "86/86 [==============================] - 2s 22ms/step - loss: 0.4857 - accuracy: 0.8624\n",
            "Epoch 82/150\n",
            "86/86 [==============================] - 2s 22ms/step - loss: 0.4729 - accuracy: 0.8733\n",
            "Epoch 83/150\n",
            "86/86 [==============================] - 2s 22ms/step - loss: 0.4709 - accuracy: 0.8750\n",
            "Epoch 84/150\n",
            "86/86 [==============================] - 2s 22ms/step - loss: 0.4663 - accuracy: 0.8750\n",
            "Epoch 85/150\n",
            "86/86 [==============================] - 2s 22ms/step - loss: 0.4294 - accuracy: 0.8906\n",
            "Epoch 86/150\n",
            "86/86 [==============================] - 2s 22ms/step - loss: 0.3827 - accuracy: 0.9028\n",
            "Epoch 87/150\n",
            "86/86 [==============================] - 2s 22ms/step - loss: 0.3541 - accuracy: 0.9100\n",
            "Epoch 88/150\n",
            "86/86 [==============================] - 2s 22ms/step - loss: 0.3440 - accuracy: 0.9145\n",
            "Epoch 89/150\n",
            "86/86 [==============================] - 2s 22ms/step - loss: 0.3455 - accuracy: 0.9112\n",
            "Epoch 90/150\n",
            "86/86 [==============================] - 2s 22ms/step - loss: 0.3377 - accuracy: 0.9105\n",
            "Epoch 91/150\n",
            "86/86 [==============================] - 2s 22ms/step - loss: 0.3177 - accuracy: 0.9224\n",
            "Epoch 92/150\n",
            "86/86 [==============================] - 2s 22ms/step - loss: 0.2922 - accuracy: 0.9292\n",
            "Epoch 93/150\n",
            "86/86 [==============================] - 2s 22ms/step - loss: 0.2977 - accuracy: 0.9250\n",
            "Epoch 94/150\n",
            "86/86 [==============================] - 2s 22ms/step - loss: 0.3196 - accuracy: 0.9194\n",
            "Epoch 95/150\n",
            "86/86 [==============================] - 2s 22ms/step - loss: 0.3044 - accuracy: 0.9191\n",
            "Epoch 96/150\n",
            "86/86 [==============================] - 2s 22ms/step - loss: 0.2986 - accuracy: 0.9215\n",
            "Epoch 97/150\n",
            "86/86 [==============================] - 2s 22ms/step - loss: 0.2712 - accuracy: 0.9299\n",
            "Epoch 98/150\n",
            "86/86 [==============================] - 2s 22ms/step - loss: 0.3030 - accuracy: 0.9187\n",
            "Epoch 99/150\n",
            "86/86 [==============================] - 2s 22ms/step - loss: 0.2830 - accuracy: 0.9254\n",
            "Epoch 100/150\n",
            "86/86 [==============================] - 2s 22ms/step - loss: 0.2745 - accuracy: 0.9266\n",
            "Epoch 101/150\n",
            "86/86 [==============================] - 2s 22ms/step - loss: 0.2435 - accuracy: 0.9381\n",
            "Epoch 102/150\n",
            "86/86 [==============================] - 2s 22ms/step - loss: 0.2375 - accuracy: 0.9397\n",
            "Epoch 103/150\n",
            "86/86 [==============================] - 2s 22ms/step - loss: 0.2393 - accuracy: 0.9369\n",
            "Epoch 104/150\n",
            "86/86 [==============================] - 2s 23ms/step - loss: 0.2453 - accuracy: 0.9364\n",
            "Epoch 105/150\n",
            "86/86 [==============================] - 2s 22ms/step - loss: 0.2900 - accuracy: 0.9224\n",
            "Epoch 106/150\n",
            "86/86 [==============================] - 2s 22ms/step - loss: 0.2631 - accuracy: 0.9327\n",
            "Epoch 107/150\n",
            "86/86 [==============================] - 2s 22ms/step - loss: 0.2823 - accuracy: 0.9247\n",
            "Epoch 108/150\n",
            "86/86 [==============================] - 2s 22ms/step - loss: 0.2870 - accuracy: 0.9236\n",
            "Epoch 109/150\n",
            "86/86 [==============================] - 2s 22ms/step - loss: 0.5275 - accuracy: 0.8537\n",
            "Epoch 110/150\n",
            "86/86 [==============================] - 2s 22ms/step - loss: 0.4712 - accuracy: 0.8638\n",
            "Epoch 111/150\n",
            "86/86 [==============================] - 2s 22ms/step - loss: 0.3880 - accuracy: 0.8902\n",
            "Epoch 112/150\n",
            "86/86 [==============================] - 2s 22ms/step - loss: 0.2716 - accuracy: 0.9231\n",
            "Epoch 113/150\n",
            "86/86 [==============================] - 2s 23ms/step - loss: 0.2369 - accuracy: 0.9350\n",
            "Epoch 114/150\n",
            "86/86 [==============================] - 2s 22ms/step - loss: 0.2085 - accuracy: 0.9432\n",
            "Epoch 115/150\n",
            "86/86 [==============================] - 2s 22ms/step - loss: 0.1804 - accuracy: 0.9530\n",
            "Epoch 116/150\n",
            "86/86 [==============================] - 2s 22ms/step - loss: 0.1776 - accuracy: 0.9537\n",
            "Epoch 117/150\n",
            "86/86 [==============================] - 2s 22ms/step - loss: 0.1714 - accuracy: 0.9544\n",
            "Epoch 118/150\n",
            "86/86 [==============================] - 2s 22ms/step - loss: 0.1781 - accuracy: 0.9500\n",
            "Epoch 119/150\n",
            "86/86 [==============================] - 2s 22ms/step - loss: 0.1715 - accuracy: 0.9563\n",
            "Epoch 120/150\n",
            "86/86 [==============================] - 2s 22ms/step - loss: 0.1639 - accuracy: 0.9561\n",
            "Epoch 121/150\n",
            "86/86 [==============================] - 2s 22ms/step - loss: 0.1545 - accuracy: 0.9591\n",
            "Epoch 122/150\n",
            "86/86 [==============================] - 2s 22ms/step - loss: 0.1557 - accuracy: 0.9596\n",
            "Epoch 123/150\n",
            "86/86 [==============================] - 2s 22ms/step - loss: 0.1641 - accuracy: 0.9563\n",
            "Epoch 124/150\n",
            "86/86 [==============================] - 2s 22ms/step - loss: 0.1682 - accuracy: 0.9544\n",
            "Epoch 125/150\n",
            "86/86 [==============================] - 2s 22ms/step - loss: 0.1728 - accuracy: 0.9507\n",
            "Epoch 126/150\n",
            "86/86 [==============================] - 2s 22ms/step - loss: 0.1927 - accuracy: 0.9425\n",
            "Epoch 127/150\n",
            "86/86 [==============================] - 2s 22ms/step - loss: 0.1848 - accuracy: 0.9481\n",
            "Epoch 128/150\n",
            "86/86 [==============================] - 2s 22ms/step - loss: 0.1821 - accuracy: 0.9505\n",
            "Epoch 129/150\n",
            "86/86 [==============================] - 2s 22ms/step - loss: 0.2299 - accuracy: 0.9360\n",
            "Epoch 130/150\n",
            "86/86 [==============================] - 2s 23ms/step - loss: 0.2292 - accuracy: 0.9371\n",
            "Epoch 131/150\n",
            "86/86 [==============================] - 2s 22ms/step - loss: 0.2207 - accuracy: 0.9388\n",
            "Epoch 132/150\n",
            "86/86 [==============================] - 2s 22ms/step - loss: 0.2572 - accuracy: 0.9285\n",
            "Epoch 133/150\n",
            "86/86 [==============================] - 2s 22ms/step - loss: 0.2154 - accuracy: 0.9397\n",
            "Epoch 134/150\n",
            "86/86 [==============================] - 2s 22ms/step - loss: 0.2263 - accuracy: 0.9336\n",
            "Epoch 135/150\n",
            "86/86 [==============================] - 2s 22ms/step - loss: 0.1760 - accuracy: 0.9498\n",
            "Epoch 136/150\n",
            "86/86 [==============================] - 2s 22ms/step - loss: 0.1812 - accuracy: 0.9512\n",
            "Epoch 137/150\n",
            "86/86 [==============================] - 2s 22ms/step - loss: 0.1704 - accuracy: 0.9488\n",
            "Epoch 138/150\n",
            "86/86 [==============================] - 2s 22ms/step - loss: 0.1705 - accuracy: 0.9502\n",
            "Epoch 139/150\n",
            "86/86 [==============================] - 2s 22ms/step - loss: 0.2339 - accuracy: 0.9355\n",
            "Epoch 140/150\n",
            "86/86 [==============================] - 2s 22ms/step - loss: 0.2226 - accuracy: 0.9353\n",
            "Epoch 141/150\n",
            "86/86 [==============================] - 2s 22ms/step - loss: 0.1979 - accuracy: 0.9413\n",
            "Epoch 142/150\n",
            "86/86 [==============================] - 2s 22ms/step - loss: 0.1821 - accuracy: 0.9505\n",
            "Epoch 143/150\n",
            "86/86 [==============================] - 2s 22ms/step - loss: 0.1934 - accuracy: 0.9432\n",
            "Epoch 144/150\n",
            "86/86 [==============================] - 2s 22ms/step - loss: 0.2047 - accuracy: 0.9392\n",
            "Epoch 145/150\n",
            "86/86 [==============================] - 2s 22ms/step - loss: 0.2142 - accuracy: 0.9357\n",
            "Epoch 146/150\n",
            "86/86 [==============================] - 2s 22ms/step - loss: 0.1912 - accuracy: 0.9430\n",
            "Epoch 147/150\n",
            "86/86 [==============================] - 2s 22ms/step - loss: 0.1805 - accuracy: 0.9467\n",
            "Epoch 148/150\n",
            "86/86 [==============================] - 2s 22ms/step - loss: 0.1686 - accuracy: 0.9493\n",
            "Epoch 149/150\n",
            "86/86 [==============================] - 2s 22ms/step - loss: 0.1442 - accuracy: 0.9584\n",
            "Epoch 150/150\n",
            "86/86 [==============================] - 2s 22ms/step - loss: 0.1319 - accuracy: 0.9621\n"
          ],
          "name": "stdout"
        }
      ]
    },
    {
      "cell_type": "code",
      "metadata": {
        "id": "nAYtd4TuJ8N_",
        "colab_type": "code",
        "colab": {
          "base_uri": "https://localhost:8080/",
          "height": 295
        },
        "outputId": "01e0b06c-42ed-4895-b67c-ecc76e4dcf87"
      },
      "source": [
        "plt.plot(history.history['loss'])\n",
        "plt.title('model loss')\n",
        "plt.ylabel('loss')\n",
        "plt.xlabel('epoch')\n",
        "plt.legend(['Loss'], loc='upper left')\n",
        "plt.show()"
      ],
      "execution_count": 37,
      "outputs": [
        {
          "output_type": "display_data",
          "data": {
            "image/png": "[encoded data removed]",
            "text/plain": [
              "<Figure size 432x288 with 1 Axes>"
            ]
          },
          "metadata": {
            "tags": [],
            "needs_background": "light"
          }
        }
      ]
    },
    {
      "cell_type": "code",
      "metadata": {
        "id": "eTNpy7jBKV0y",
        "colab_type": "code",
        "colab": {
          "base_uri": "https://localhost:8080/",
          "height": 295
        },
        "outputId": "ba6d27db-c897-47be-e5f4-66764117c51c"
      },
      "source": [
        "plt.plot(history.history['accuracy'])\n",
        "plt.title('model accuracy')\n",
        "plt.ylabel('accuracy')\n",
        "plt.xlabel('epoch')\n",
        "plt.legend(['Accuracy'], loc='upper left')\n",
        "plt.show()"
      ],
      "execution_count": 38,
      "outputs": [
        {
          "output_type": "display_data",
          "data": {
            "image/png": "[encoded data removed]",
            "text/plain": [
              "<Figure size 432x288 with 1 Axes>"
            ]
          },
          "metadata": {
            "tags": [],
            "needs_background": "light"
          }
        }
      ]
    },
    {
      "cell_type": "code",
      "metadata": {
        "id": "niIU6sPm9rKb",
        "colab_type": "code",
        "outputId": "2c0595d0-625d-454e-9595-de81a9c02481",
        "colab": {
          "base_uri": "https://localhost:8080/",
          "height": 168
        }
      },
      "source": [
        "#Predicting next part of sentence based on input phrase\n",
        "\n",
        "predict(max_sequence_len, tokenizer)"
      ],
      "execution_count": 41,
      "outputs": [
        {
          "output_type": "stream",
          "text": [
            "Enter an incomplete sentence\n",
            "Such an awesome day\n",
            "Enter the no. of word to be predicted\n",
            "7\n",
            "\n",
            "\n",
            "The predicted sentence is:\n",
            "\n",
            "Such an awesome day from the surgeon preserving his searching glance\n"
          ],
          "name": "stdout"
        }
      ]
    },
    {
      "cell_type": "code",
      "metadata": {
        "id": "RPCcSJJyWq1r",
        "colab_type": "code",
        "colab": {
          "base_uri": "https://localhost:8080/",
          "height": 34
        },
        "outputId": "f2df22cd-d289-4d25-e3f5-f7e015e3d245"
      },
      "source": [
        "from keras.models import model_from_yaml\n",
        "# serialize model to YAML\n",
        "model_yaml = model.to_yaml()\n",
        "with open(\"model.yaml\", \"w\") as yaml_file:\n",
        "    yaml_file.write(model_yaml)\n",
        "# serialize weights to HDF5\n",
        "model.save_weights(\"model.h5\")\n",
        "model.load_weights(\"model.h5\")\n",
        "model.save(\"model.h5\")\n",
        "print(\"Saved model to disk\")"
      ],
      "execution_count": 42,
      "outputs": [
        {
          "output_type": "stream",
          "text": [
            "Saved model to disk\n"
          ],
          "name": "stdout"
        }
      ]
    },
    {
      "cell_type": "code",
      "metadata": {
        "id": "ny7MR3_VWuY9",
        "colab_type": "code",
        "colab": {
          "base_uri": "https://localhost:8080/",
          "height": 34
        },
        "outputId": "a8e75105-ec7a-47c2-cf51-e888ed44df74"
      },
      "source": [
        "import tensorflow as tf\n",
        "model_yaml = tf.keras.models.load_model('/content/model.h5')\n",
        "converter = tf.lite.TFLiteConverter.from_keras_model(model_yaml)\n",
        "tflite_model = converter.convert()\n",
        "open(\"converted_model.tflite\", \"wb\").write(tflite_model)"
      ],
      "execution_count": 43,
      "outputs": [
        {
          "output_type": "execute_result",
          "data": {
            "text/plain": [
              "6300416"
            ]
          },
          "metadata": {
            "tags": []
          },
          "execution_count": 43
        }
      ]
    }
  ]
}